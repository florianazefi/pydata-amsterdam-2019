{
 "cells": [
  {
   "cell_type": "markdown",
   "metadata": {},
   "source": [
    "# Building Markov Features"
   ]
  },
  {
   "cell_type": "markdown",
   "metadata": {},
   "source": [
    "PyData - Amsterdam - 2019"
   ]
  },
  {
   "cell_type": "markdown",
   "metadata": {
    "slideshow": {
     "slide_type": "-"
    }
   },
   "source": [
    "In this notebook I am going to illustrate how to create Markov features from scratch."
   ]
  },
  {
   "cell_type": "code",
   "execution_count": 1,
   "metadata": {
    "slideshow": {
     "slide_type": "-"
    }
   },
   "outputs": [],
   "source": [
    "import numpy as np\n",
    "import pandas as pd\n",
    "import datetime\n",
    "import matplotlib.pylab as plt"
   ]
  },
  {
   "cell_type": "markdown",
   "metadata": {
    "slideshow": {
     "slide_type": "-"
    }
   },
   "source": [
    "To run this notebook, some helpers will be used."
   ]
  },
  {
   "cell_type": "code",
   "execution_count": 2,
   "metadata": {},
   "outputs": [],
   "source": [
    "from helpers_ngrams import encode_states\n",
    "from BigramModel import BigramModel\n",
    "from datasets import make_bigram_toy_data"
   ]
  },
  {
   "cell_type": "markdown",
   "metadata": {},
   "source": [
    "First, we will create some example dataset."
   ]
  },
  {
   "cell_type": "code",
   "execution_count": 3,
   "metadata": {},
   "outputs": [],
   "source": [
    "df = make_bigram_toy_data(n_samples=10000, n_sequences=1000, n_features=3)"
   ]
  },
  {
   "cell_type": "code",
   "execution_count": 4,
   "metadata": {},
   "outputs": [],
   "source": [
    "df = df.dropna()\n",
    "df[\"state\"] = encode_states(df[[\"v{0}_diffsign\".format(i) for i in range(3)]])"
   ]
  },
  {
   "cell_type": "code",
   "execution_count": 5,
   "metadata": {},
   "outputs": [
    {
     "data": {
      "text/html": [
       "<div>\n",
       "<style scoped>\n",
       "    .dataframe tbody tr th:only-of-type {\n",
       "        vertical-align: middle;\n",
       "    }\n",
       "\n",
       "    .dataframe tbody tr th {\n",
       "        vertical-align: top;\n",
       "    }\n",
       "\n",
       "    .dataframe thead th {\n",
       "        text-align: right;\n",
       "    }\n",
       "</style>\n",
       "<table border=\"1\" class=\"dataframe\">\n",
       "  <thead>\n",
       "    <tr style=\"text-align: right;\">\n",
       "      <th></th>\n",
       "      <th>sequence</th>\n",
       "      <th>class</th>\n",
       "      <th>v0</th>\n",
       "      <th>v1</th>\n",
       "      <th>v2</th>\n",
       "      <th>v0_diffsign</th>\n",
       "      <th>v1_diffsign</th>\n",
       "      <th>v2_diffsign</th>\n",
       "      <th>state</th>\n",
       "    </tr>\n",
       "  </thead>\n",
       "  <tbody>\n",
       "    <tr>\n",
       "      <th>0</th>\n",
       "      <td>0</td>\n",
       "      <td>0</td>\n",
       "      <td>-0.143406</td>\n",
       "      <td>0.108238</td>\n",
       "      <td>-0.044739</td>\n",
       "      <td>1</td>\n",
       "      <td>1</td>\n",
       "      <td>1</td>\n",
       "      <td>26</td>\n",
       "    </tr>\n",
       "    <tr>\n",
       "      <th>1</th>\n",
       "      <td>0</td>\n",
       "      <td>0</td>\n",
       "      <td>-0.201843</td>\n",
       "      <td>0.044729</td>\n",
       "      <td>-0.132554</td>\n",
       "      <td>-1</td>\n",
       "      <td>-1</td>\n",
       "      <td>-1</td>\n",
       "      <td>0</td>\n",
       "    </tr>\n",
       "    <tr>\n",
       "      <th>2</th>\n",
       "      <td>0</td>\n",
       "      <td>0</td>\n",
       "      <td>-0.217365</td>\n",
       "      <td>0.171169</td>\n",
       "      <td>-0.088315</td>\n",
       "      <td>-1</td>\n",
       "      <td>1</td>\n",
       "      <td>1</td>\n",
       "      <td>24</td>\n",
       "    </tr>\n",
       "    <tr>\n",
       "      <th>3</th>\n",
       "      <td>0</td>\n",
       "      <td>0</td>\n",
       "      <td>-0.272613</td>\n",
       "      <td>0.215179</td>\n",
       "      <td>-0.088315</td>\n",
       "      <td>-1</td>\n",
       "      <td>1</td>\n",
       "      <td>0</td>\n",
       "      <td>15</td>\n",
       "    </tr>\n",
       "    <tr>\n",
       "      <th>4</th>\n",
       "      <td>0</td>\n",
       "      <td>0</td>\n",
       "      <td>-0.312177</td>\n",
       "      <td>0.215179</td>\n",
       "      <td>-0.124545</td>\n",
       "      <td>-1</td>\n",
       "      <td>0</td>\n",
       "      <td>-1</td>\n",
       "      <td>3</td>\n",
       "    </tr>\n",
       "  </tbody>\n",
       "</table>\n",
       "</div>"
      ],
      "text/plain": [
       "   sequence  class        v0        v1        v2  v0_diffsign  v1_diffsign  \\\n",
       "0         0      0 -0.143406  0.108238 -0.044739            1            1   \n",
       "1         0      0 -0.201843  0.044729 -0.132554           -1           -1   \n",
       "2         0      0 -0.217365  0.171169 -0.088315           -1            1   \n",
       "3         0      0 -0.272613  0.215179 -0.088315           -1            1   \n",
       "4         0      0 -0.312177  0.215179 -0.124545           -1            0   \n",
       "\n",
       "   v2_diffsign  state  \n",
       "0            1     26  \n",
       "1           -1      0  \n",
       "2            1     24  \n",
       "3            0     15  \n",
       "4           -1      3  "
      ]
     },
     "execution_count": 5,
     "metadata": {},
     "output_type": "execute_result"
    }
   ],
   "source": [
    "df.head()"
   ]
  },
  {
   "cell_type": "markdown",
   "metadata": {},
   "source": [
    "Let us have a look at the data:"
   ]
  },
  {
   "cell_type": "code",
   "execution_count": 6,
   "metadata": {},
   "outputs": [
    {
     "data": {
      "text/html": [
       "<div>\n",
       "<style scoped>\n",
       "    .dataframe tbody tr th:only-of-type {\n",
       "        vertical-align: middle;\n",
       "    }\n",
       "\n",
       "    .dataframe tbody tr th {\n",
       "        vertical-align: top;\n",
       "    }\n",
       "\n",
       "    .dataframe thead th {\n",
       "        text-align: right;\n",
       "    }\n",
       "</style>\n",
       "<table border=\"1\" class=\"dataframe\">\n",
       "  <thead>\n",
       "    <tr style=\"text-align: right;\">\n",
       "      <th></th>\n",
       "      <th>sequence</th>\n",
       "      <th>class</th>\n",
       "      <th>v0</th>\n",
       "      <th>v1</th>\n",
       "      <th>v2</th>\n",
       "      <th>v0_diffsign</th>\n",
       "      <th>v1_diffsign</th>\n",
       "      <th>v2_diffsign</th>\n",
       "      <th>state</th>\n",
       "    </tr>\n",
       "  </thead>\n",
       "  <tbody>\n",
       "    <tr>\n",
       "      <th>0</th>\n",
       "      <td>0</td>\n",
       "      <td>0</td>\n",
       "      <td>-0.143406</td>\n",
       "      <td>0.108238</td>\n",
       "      <td>-0.044739</td>\n",
       "      <td>1</td>\n",
       "      <td>1</td>\n",
       "      <td>1</td>\n",
       "      <td>26</td>\n",
       "    </tr>\n",
       "    <tr>\n",
       "      <th>1</th>\n",
       "      <td>0</td>\n",
       "      <td>0</td>\n",
       "      <td>-0.201843</td>\n",
       "      <td>0.044729</td>\n",
       "      <td>-0.132554</td>\n",
       "      <td>-1</td>\n",
       "      <td>-1</td>\n",
       "      <td>-1</td>\n",
       "      <td>0</td>\n",
       "    </tr>\n",
       "    <tr>\n",
       "      <th>2</th>\n",
       "      <td>0</td>\n",
       "      <td>0</td>\n",
       "      <td>-0.217365</td>\n",
       "      <td>0.171169</td>\n",
       "      <td>-0.088315</td>\n",
       "      <td>-1</td>\n",
       "      <td>1</td>\n",
       "      <td>1</td>\n",
       "      <td>24</td>\n",
       "    </tr>\n",
       "    <tr>\n",
       "      <th>3</th>\n",
       "      <td>0</td>\n",
       "      <td>0</td>\n",
       "      <td>-0.272613</td>\n",
       "      <td>0.215179</td>\n",
       "      <td>-0.088315</td>\n",
       "      <td>-1</td>\n",
       "      <td>1</td>\n",
       "      <td>0</td>\n",
       "      <td>15</td>\n",
       "    </tr>\n",
       "    <tr>\n",
       "      <th>4</th>\n",
       "      <td>0</td>\n",
       "      <td>0</td>\n",
       "      <td>-0.312177</td>\n",
       "      <td>0.215179</td>\n",
       "      <td>-0.124545</td>\n",
       "      <td>-1</td>\n",
       "      <td>0</td>\n",
       "      <td>-1</td>\n",
       "      <td>3</td>\n",
       "    </tr>\n",
       "  </tbody>\n",
       "</table>\n",
       "</div>"
      ],
      "text/plain": [
       "   sequence  class        v0        v1        v2  v0_diffsign  v1_diffsign  \\\n",
       "0         0      0 -0.143406  0.108238 -0.044739            1            1   \n",
       "1         0      0 -0.201843  0.044729 -0.132554           -1           -1   \n",
       "2         0      0 -0.217365  0.171169 -0.088315           -1            1   \n",
       "3         0      0 -0.272613  0.215179 -0.088315           -1            1   \n",
       "4         0      0 -0.312177  0.215179 -0.124545           -1            0   \n",
       "\n",
       "   v2_diffsign  state  \n",
       "0            1     26  \n",
       "1           -1      0  \n",
       "2            1     24  \n",
       "3            0     15  \n",
       "4           -1      3  "
      ]
     },
     "execution_count": 6,
     "metadata": {},
     "output_type": "execute_result"
    }
   ],
   "source": [
    "df0 = df[df[\"class\"] == 0]\n",
    "df0.head()"
   ]
  },
  {
   "cell_type": "code",
   "execution_count": 7,
   "metadata": {},
   "outputs": [
    {
     "data": {
      "text/html": [
       "<div>\n",
       "<style scoped>\n",
       "    .dataframe tbody tr th:only-of-type {\n",
       "        vertical-align: middle;\n",
       "    }\n",
       "\n",
       "    .dataframe tbody tr th {\n",
       "        vertical-align: top;\n",
       "    }\n",
       "\n",
       "    .dataframe thead th {\n",
       "        text-align: right;\n",
       "    }\n",
       "</style>\n",
       "<table border=\"1\" class=\"dataframe\">\n",
       "  <thead>\n",
       "    <tr style=\"text-align: right;\">\n",
       "      <th></th>\n",
       "      <th>sequence</th>\n",
       "      <th>class</th>\n",
       "      <th>v0</th>\n",
       "      <th>v1</th>\n",
       "      <th>v2</th>\n",
       "      <th>v0_diffsign</th>\n",
       "      <th>v1_diffsign</th>\n",
       "      <th>v2_diffsign</th>\n",
       "      <th>state</th>\n",
       "    </tr>\n",
       "  </thead>\n",
       "  <tbody>\n",
       "    <tr>\n",
       "      <th>5000</th>\n",
       "      <td>500</td>\n",
       "      <td>1</td>\n",
       "      <td>0.139709</td>\n",
       "      <td>-0.059105</td>\n",
       "      <td>0.031076</td>\n",
       "      <td>1</td>\n",
       "      <td>1</td>\n",
       "      <td>1</td>\n",
       "      <td>26</td>\n",
       "    </tr>\n",
       "    <tr>\n",
       "      <th>5001</th>\n",
       "      <td>500</td>\n",
       "      <td>1</td>\n",
       "      <td>0.153008</td>\n",
       "      <td>-0.042231</td>\n",
       "      <td>-0.020024</td>\n",
       "      <td>1</td>\n",
       "      <td>1</td>\n",
       "      <td>-1</td>\n",
       "      <td>8</td>\n",
       "    </tr>\n",
       "    <tr>\n",
       "      <th>5002</th>\n",
       "      <td>501</td>\n",
       "      <td>1</td>\n",
       "      <td>0.108700</td>\n",
       "      <td>-0.028303</td>\n",
       "      <td>-0.014352</td>\n",
       "      <td>1</td>\n",
       "      <td>1</td>\n",
       "      <td>1</td>\n",
       "      <td>26</td>\n",
       "    </tr>\n",
       "    <tr>\n",
       "      <th>5003</th>\n",
       "      <td>502</td>\n",
       "      <td>1</td>\n",
       "      <td>0.126312</td>\n",
       "      <td>-0.047711</td>\n",
       "      <td>0.010822</td>\n",
       "      <td>1</td>\n",
       "      <td>1</td>\n",
       "      <td>1</td>\n",
       "      <td>26</td>\n",
       "    </tr>\n",
       "    <tr>\n",
       "      <th>5004</th>\n",
       "      <td>503</td>\n",
       "      <td>1</td>\n",
       "      <td>0.068327</td>\n",
       "      <td>0.036493</td>\n",
       "      <td>-0.064339</td>\n",
       "      <td>1</td>\n",
       "      <td>1</td>\n",
       "      <td>1</td>\n",
       "      <td>26</td>\n",
       "    </tr>\n",
       "  </tbody>\n",
       "</table>\n",
       "</div>"
      ],
      "text/plain": [
       "      sequence  class        v0        v1        v2  v0_diffsign  v1_diffsign  \\\n",
       "5000       500      1  0.139709 -0.059105  0.031076            1            1   \n",
       "5001       500      1  0.153008 -0.042231 -0.020024            1            1   \n",
       "5002       501      1  0.108700 -0.028303 -0.014352            1            1   \n",
       "5003       502      1  0.126312 -0.047711  0.010822            1            1   \n",
       "5004       503      1  0.068327  0.036493 -0.064339            1            1   \n",
       "\n",
       "      v2_diffsign  state  \n",
       "5000            1     26  \n",
       "5001           -1      8  \n",
       "5002            1     26  \n",
       "5003            1     26  \n",
       "5004            1     26  "
      ]
     },
     "execution_count": 7,
     "metadata": {},
     "output_type": "execute_result"
    }
   ],
   "source": [
    "df1 = df[df[\"class\"] == 1]\n",
    "df1.head()"
   ]
  },
  {
   "cell_type": "markdown",
   "metadata": {},
   "source": [
    "At this point we are ready to calculate the Markov features. For this I will use the class ```BigramModel```."
   ]
  },
  {
   "cell_type": "code",
   "execution_count": 8,
   "metadata": {},
   "outputs": [],
   "source": [
    "model_0 = BigramModel(alpha=1.0).fit(df0[\"state\"], df0[\"sequence\"])\n",
    "model_1 = BigramModel(alpha=1.0).fit(df1[\"state\"], df1[\"sequence\"])"
   ]
  },
  {
   "cell_type": "markdown",
   "metadata": {},
   "source": [
    "#### Display results\n",
    "The ```fit``` will perform all the calculations and provide with all the calculations."
   ]
  },
  {
   "cell_type": "markdown",
   "metadata": {},
   "source": [
    "Let us have a look how frequent were the states in the data - sets."
   ]
  },
  {
   "cell_type": "code",
   "execution_count": 9,
   "metadata": {},
   "outputs": [
    {
     "name": "stdout",
     "output_type": "stream",
     "text": [
      "First data-set:  \n",
      "    state  frequency\n",
      "0      0       1143\n",
      "1      1        218\n",
      "2      2        338\n",
      "3      3        198\n",
      "4      4         24 \n",
      " Second data-set:  \n",
      "    state  frequency\n",
      "0      0        502\n",
      "1      1         41\n",
      "2      2         81\n",
      "3      3        253\n",
      "4      4         21\n"
     ]
    }
   ],
   "source": [
    "print(\"First data-set: \", '\\n',model_0.single_counts_df.sort_values(by='state').head(),\n",
    "      '\\n', \"Second data-set: \", '\\n', model_1.single_counts_df.sort_values(by='state').head())"
   ]
  },
  {
   "cell_type": "markdown",
   "metadata": {},
   "source": [
    "Let us have a look on which are the most frequent sequences: "
   ]
  },
  {
   "cell_type": "code",
   "execution_count": 10,
   "metadata": {},
   "outputs": [
    {
     "data": {
      "image/png": "[encoded data removed]",
      "text/plain": [
       "<Figure size 432x288 with 1 Axes>"
      ]
     },
     "metadata": {
      "needs_background": "light"
     },
     "output_type": "display_data"
    },
    {
     "data": {
      "image/png": "[encoded data removed]",
      "text/plain": [
       "<Figure size 432x288 with 1 Axes>"
      ]
     },
     "metadata": {
      "needs_background": "light"
     },
     "output_type": "display_data"
    }
   ],
   "source": [
    "model_0.plot_frequency(n_most_frequent=10)\n",
    "model_1.plot_frequency(n_most_frequent=10)"
   ]
  },
  {
   "cell_type": "markdown",
   "metadata": {},
   "source": [
    "### Probability Matrix\n",
    "Are you curious about the probability matrix? \n",
    "Let's have a look."
   ]
  },
  {
   "cell_type": "code",
   "execution_count": 11,
   "metadata": {},
   "outputs": [
    {
     "data": {
      "image/png": "[encoded data removed]",
      "text/plain": [
       "<Figure size 432x288 with 2 Axes>"
      ]
     },
     "metadata": {
      "needs_background": "light"
     },
     "output_type": "display_data"
    }
   ],
   "source": [
    "model_0.plot_proba_matrix(log=False)"
   ]
  },
  {
   "cell_type": "code",
   "execution_count": 12,
   "metadata": {},
   "outputs": [
    {
     "data": {
      "image/png": "[encoded data removed]",
      "text/plain": [
       "<Figure size 432x288 with 2 Axes>"
      ]
     },
     "metadata": {
      "needs_background": "light"
     },
     "output_type": "display_data"
    }
   ],
   "source": [
    "model_1.plot_proba_matrix(log=False)"
   ]
  },
  {
   "cell_type": "markdown",
   "metadata": {},
   "source": [
    "We are ready to create Markov features."
   ]
  },
  {
   "cell_type": "code",
   "execution_count": 13,
   "metadata": {},
   "outputs": [
    {
     "data": {
      "text/html": [
       "<div>\n",
       "<style scoped>\n",
       "    .dataframe tbody tr th:only-of-type {\n",
       "        vertical-align: middle;\n",
       "    }\n",
       "\n",
       "    .dataframe tbody tr th {\n",
       "        vertical-align: top;\n",
       "    }\n",
       "\n",
       "    .dataframe thead th {\n",
       "        text-align: right;\n",
       "    }\n",
       "</style>\n",
       "<table border=\"1\" class=\"dataframe\">\n",
       "  <thead>\n",
       "    <tr style=\"text-align: right;\">\n",
       "      <th></th>\n",
       "      <th>person_id</th>\n",
       "      <th>V_Markov_seq_prob_log_mean</th>\n",
       "      <th>V_Markov_seq_prob_log_median</th>\n",
       "      <th>V_Markov_seq_prob_log_tot</th>\n",
       "      <th>V_Markov_seq_prob_max</th>\n",
       "      <th>V_Markov_seq_prob_mean</th>\n",
       "      <th>V_Markov_seq_prob_median</th>\n",
       "      <th>V_Markov_seq_prob_min</th>\n",
       "    </tr>\n",
       "  </thead>\n",
       "  <tbody>\n",
       "    <tr>\n",
       "      <th>0</th>\n",
       "      <td>500</td>\n",
       "      <td>-0.937852</td>\n",
       "      <td>-0.937852</td>\n",
       "      <td>-1.414973</td>\n",
       "      <td>0.115385</td>\n",
       "      <td>0.115385</td>\n",
       "      <td>0.115385</td>\n",
       "      <td>0.115385</td>\n",
       "    </tr>\n",
       "    <tr>\n",
       "      <th>1</th>\n",
       "      <td>503</td>\n",
       "      <td>-1.310095</td>\n",
       "      <td>-1.431364</td>\n",
       "      <td>-35.267589</td>\n",
       "      <td>0.244014</td>\n",
       "      <td>0.048967</td>\n",
       "      <td>0.037037</td>\n",
       "      <td>0.000701</td>\n",
       "    </tr>\n",
       "    <tr>\n",
       "      <th>2</th>\n",
       "      <td>504</td>\n",
       "      <td>-1.098205</td>\n",
       "      <td>-1.431364</td>\n",
       "      <td>-5.527756</td>\n",
       "      <td>0.244014</td>\n",
       "      <td>0.079762</td>\n",
       "      <td>0.037037</td>\n",
       "      <td>0.000959</td>\n",
       "    </tr>\n",
       "    <tr>\n",
       "      <th>3</th>\n",
       "      <td>505</td>\n",
       "      <td>-1.367124</td>\n",
       "      <td>-1.431364</td>\n",
       "      <td>-26.659128</td>\n",
       "      <td>0.256844</td>\n",
       "      <td>0.042941</td>\n",
       "      <td>0.037037</td>\n",
       "      <td>0.002817</td>\n",
       "    </tr>\n",
       "    <tr>\n",
       "      <th>4</th>\n",
       "      <td>506</td>\n",
       "      <td>-1.721290</td>\n",
       "      <td>-1.721290</td>\n",
       "      <td>-3.243073</td>\n",
       "      <td>0.037037</td>\n",
       "      <td>0.018998</td>\n",
       "      <td>0.018998</td>\n",
       "      <td>0.000959</td>\n",
       "    </tr>\n",
       "  </tbody>\n",
       "</table>\n",
       "</div>"
      ],
      "text/plain": [
       "   person_id  V_Markov_seq_prob_log_mean  V_Markov_seq_prob_log_median  \\\n",
       "0        500                   -0.937852                     -0.937852   \n",
       "1        503                   -1.310095                     -1.431364   \n",
       "2        504                   -1.098205                     -1.431364   \n",
       "3        505                   -1.367124                     -1.431364   \n",
       "4        506                   -1.721290                     -1.721290   \n",
       "\n",
       "   V_Markov_seq_prob_log_tot  V_Markov_seq_prob_max  V_Markov_seq_prob_mean  \\\n",
       "0                  -1.414973               0.115385                0.115385   \n",
       "1                 -35.267589               0.244014                0.048967   \n",
       "2                  -5.527756               0.244014                0.079762   \n",
       "3                 -26.659128               0.256844                0.042941   \n",
       "4                  -3.243073               0.037037                0.018998   \n",
       "\n",
       "   V_Markov_seq_prob_median  V_Markov_seq_prob_min  \n",
       "0                  0.115385               0.115385  \n",
       "1                  0.037037               0.000701  \n",
       "2                  0.037037               0.000959  \n",
       "3                  0.037037               0.002817  \n",
       "4                  0.018998               0.000959  "
      ]
     },
     "execution_count": 13,
     "metadata": {},
     "output_type": "execute_result"
    }
   ],
   "source": [
    "model_0.predict_proba_stats(df1[\"state\"].values, df1[\"sequence\"].values).head()"
   ]
  },
  {
   "cell_type": "markdown",
   "metadata": {},
   "source": [
    "If you would like to create more features, add them in the class and it will return them."
   ]
  },
  {
   "cell_type": "markdown",
   "metadata": {},
   "source": [
    "#### Are these features predective? "
   ]
  },
  {
   "cell_type": "code",
   "execution_count": 14,
   "metadata": {},
   "outputs": [],
   "source": [
    "probs1 = model_0.predict_proba_stats(df1[\"state\"].values, df1[\"sequence\"].values)[\"V_Markov_seq_prob_mean\"].values\n",
    "probs0 = model_0.predict_proba_stats(df0[\"state\"].values, df0[\"sequence\"].values)[\"V_Markov_seq_prob_mean\"].values"
   ]
  },
  {
   "cell_type": "code",
   "execution_count": 15,
   "metadata": {},
   "outputs": [
    {
     "data": {
      "image/png": "[encoded data removed]",
      "text/plain": [
       "<Figure size 432x288 with 1 Axes>"
      ]
     },
     "metadata": {
      "needs_background": "light"
     },
     "output_type": "display_data"
    }
   ],
   "source": [
    "bins = np.linspace(0,1,100)\n",
    "plt.hist(probs0, bins=bins, histtype=\"step\", label=\"class 0 (used for training)\")\n",
    "plt.hist(probs1, bins=bins, histtype=\"step\", label=\"class 1\")\n",
    "plt.xlabel(\"median probability\")\n",
    "plt.ylabel(\"number of sequences\")\n",
    "plt.legend(loc=\"upper right\")\n",
    "plt.show()"
   ]
  },
  {
   "cell_type": "markdown",
   "metadata": {},
   "source": [
    "## Imputing missing values\n",
    "Few words about missing values: \n",
    "- unseen states in the training, which you see in the test?\n",
    "- missing values are present when in the data set are sequences with one state only\n",
    "- imputing missing values is preferred be done outside the class\n",
    "- example function below"
   ]
  },
  {
   "cell_type": "code",
   "execution_count": 16,
   "metadata": {},
   "outputs": [],
   "source": [
    "def replace_Markov_missing_values(df, log_values = 0, nolog_values = 1):\n",
    "    '''\n",
    "    Retrieves all the Markov features, and replaces them by 1 or 0 if we have log or not\n",
    "    Args:\n",
    "        df (dataframe) : pandas dataframe with Markov features\n",
    "        log_values (int): value to fill the missing values\n",
    "        nolog_values (int): value to fill the missing values\n",
    "    Returns:\n",
    "        df (pandas dataframe): in this dataframe the missing values of the column col have been replaced\n",
    "    '''\n",
    "    for col in df.columns:\n",
    "        if col.startswith('V_Markov_log'):\n",
    "            df[col] = df[col].fillna(value = log_values)\n",
    "        if col.startswith('V_Markov_seq'):\n",
    "            df[col] = df[col].fillna(value = nolog_values)\n",
    "\n",
    "    return df"
   ]
  },
  {
   "cell_type": "markdown",
   "metadata": {},
   "source": [
    "# Conclusions\n",
    "\n",
    "- Markov chain approximation is still a good approach for anomaly detection\n",
    "- Web-collected data can be used to perform behavioural studies\n",
    "- Markov chain-based features used together with other features in a complex model in production "
   ]
  },
  {
   "cell_type": "markdown",
   "metadata": {},
   "source": []
  }
 ],
 "metadata": {
  "kernelspec": {
   "display_name": "Python 3",
   "language": "python",
   "name": "python3"
  },
  "language_info": {
   "codemirror_mode": {
    "name": "ipython",
    "version": 3
   },
   "file_extension": ".py",
   "mimetype": "text/x-python",
   "name": "python",
   "nbconvert_exporter": "python",
   "pygments_lexer": "ipython3",
   "version": "3.5.6"
  }
 },
 "nbformat": 4,
 "nbformat_minor": 2
}
