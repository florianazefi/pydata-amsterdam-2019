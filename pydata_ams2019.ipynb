{
 "cells": [
  {
   "cell_type": "markdown",
   "metadata": {},
   "source": [
    "# Building Markov Features "
   ]
  },
  {
   "cell_type": "markdown",
   "metadata": {},
   "source": [
    "In this notebook I am going to illustrate how to create Markov features from scratch. To run this notebook, some helpers will be used. "
   ]
  },
  {
   "cell_type": "code",
   "execution_count": 1,
   "metadata": {},
   "outputs": [],
   "source": [
    "import numpy as np\n",
    "import pandas as pd\n",
    "import datetime\n",
    "import matplotlib.pylab as plt"
   ]
  },
  {
   "cell_type": "code",
   "execution_count": 2,
   "metadata": {},
   "outputs": [],
   "source": [
    "from helpers_ngrams import encode_states\n",
    "from BigramModel import *\n",
    "from datasets import make_sequential"
   ]
  },
  {
   "cell_type": "code",
   "execution_count": 3,
   "metadata": {},
   "outputs": [],
   "source": [
    "df1_raw = make_sequential(n_samples=10000, n_sequences=1000, random_state=11)"
   ]
  },
  {
   "cell_type": "code",
   "execution_count": 4,
   "metadata": {},
   "outputs": [],
   "source": [
    "df2_raw = make_sequential(n_samples=10000, n_sequences=1000, random_state=2)"
   ]
  },
  {
   "cell_type": "code",
   "execution_count": 5,
   "metadata": {},
   "outputs": [],
   "source": [
    "def diff(df):\n",
    "    for v in [\"v1\", \"v2\", \"v3\"]:\n",
    "        df[v] = np.sign(df[v].diff())\n",
    "    return df"
   ]
  },
  {
   "cell_type": "code",
   "execution_count": 6,
   "metadata": {},
   "outputs": [],
   "source": [
    "def massage(df):\n",
    "    variables = [\"v1\", \"v2\", \"v3\"]\n",
    "    df = df.groupby(\"sequence\").apply(diff)\n",
    "    df = df.dropna()\n",
    "    df[variables] = df[variables].astype(np.int) + 1\n",
    "    df[\"state\"] = encode_states(df[[\"v1\", \"v2\", \"v3\"]])\n",
    "    \n",
    "    return df"
   ]
  },
  {
   "cell_type": "code",
   "execution_count": 7,
   "metadata": {},
   "outputs": [],
   "source": [
    "df1 = massage(df1_raw)\n",
    "df2 = massage(df2_raw)"
   ]
  },
  {
   "cell_type": "markdown",
   "metadata": {},
   "source": [
    "Let us have a look at the data:"
   ]
  },
  {
   "cell_type": "code",
   "execution_count": 8,
   "metadata": {},
   "outputs": [
    {
     "name": "stdout",
     "output_type": "stream",
     "text": [
      "First data-frame:  \n",
      "    sequence        v1        v2        v3\n",
      "0         0 -0.136187  0.065560 -0.054400\n",
      "1         0 -0.203301  0.065560 -0.110613\n",
      "2         0 -0.222885  0.065560 -0.150528\n",
      "3         0 -0.222885  0.101262 -0.150528\n",
      "4         0 -0.245426  0.116405 -0.150528 \n",
      " Second data-frame:  \n",
      "    sequence        v1        v2        v3\n",
      "0         0 -0.009659 -0.113660 -0.068069\n",
      "1         0  0.095460  0.032746 -0.222778\n",
      "2         0  0.032292 -0.047002 -0.248339\n",
      "3         0  0.014389 -0.126145 -0.237008\n",
      "4         0  0.039622 -0.139837 -0.252373\n"
     ]
    }
   ],
   "source": [
    "print(\"First data-frame: \", '\\n', df1_raw.head(), '\\n', \n",
    "      \"Second data-frame: \", '\\n', df2_raw.head())"
   ]
  },
  {
   "cell_type": "code",
   "execution_count": 9,
   "metadata": {
    "scrolled": true
   },
   "outputs": [
    {
     "name": "stdout",
     "output_type": "stream",
     "text": [
      "First data-frame - encoded:  \n",
      "     sequence  v1  v2  v3  state\n",
      "1          0   0   1   0      3\n",
      "2          0   0   1   0      3\n",
      "3          0   1   2   1     16\n",
      "4          0   0   2   1     15\n",
      "5          0   1   2   2     25\n",
      "6          0   0   0   0      0\n",
      "8          1   0   2   0      6\n",
      "9          1   0   1   0      3\n",
      "10         1   2   2   2     26\n",
      "11         1   0   0   0      0 \n",
      " Second data-frame - encoded:  \n",
      "     sequence  v1  v2  v3  state\n",
      "1          0   2   2   0      8\n",
      "2          0   0   0   0      0\n",
      "3          0   0   0   2     18\n",
      "4          0   2   0   0      2\n",
      "5          0   0   0   2     18\n",
      "6          0   2   2   0      8\n",
      "7          0   0   0   2     18\n",
      "8          0   2   2   0      8\n",
      "9          0   0   0   2     18\n",
      "10         0   2   2   0      8\n"
     ]
    }
   ],
   "source": [
    "print(\"First data-frame - encoded: \", '\\n', df1.head(10), '\\n', \n",
    "      \"Second data-frame - encoded: \", '\\n', df2.head(10))"
   ]
  },
  {
   "cell_type": "markdown",
   "metadata": {},
   "source": [
    "At this point we are ready to calculate the Markov features. For this I will use the class ```BigramModel```."
   ]
  },
  {
   "cell_type": "code",
   "execution_count": 10,
   "metadata": {},
   "outputs": [],
   "source": [
    "model_1 = BigramModel()"
   ]
  },
  {
   "cell_type": "code",
   "execution_count": 11,
   "metadata": {},
   "outputs": [],
   "source": [
    "model_1.fit(df1[\"state\"], df1[\"sequence\"])"
   ]
  },
  {
   "cell_type": "code",
   "execution_count": 13,
   "metadata": {},
   "outputs": [],
   "source": [
    "model_2 = BigramModel()"
   ]
  },
  {
   "cell_type": "code",
   "execution_count": 14,
   "metadata": {},
   "outputs": [],
   "source": [
    "model_2.fit(df2[\"state\"], df2[\"sequence\"])"
   ]
  },
  {
   "cell_type": "markdown",
   "metadata": {},
   "source": [
    "#### Display results\n",
    "The ```fit``` will perform all the calculations and provide with all the calculations."
   ]
  },
  {
   "cell_type": "markdown",
   "metadata": {},
   "source": [
    "Let us have a look how frequent were the states in the data - sets."
   ]
  },
  {
   "cell_type": "code",
   "execution_count": 15,
   "metadata": {},
   "outputs": [
    {
     "name": "stdout",
     "output_type": "stream",
     "text": [
      "First data-set:  \n",
      "    state  frequency\n",
      "0      0       2292\n",
      "1      1        388\n",
      "2      2        746\n",
      "3      3        405\n",
      "4      4         54 \n",
      " Second data-set:  \n",
      "    state  frequency\n",
      "0      0        277\n",
      "1      1        298\n",
      "2      2        449\n",
      "3      3         58\n",
      "4      4         98\n"
     ]
    }
   ],
   "source": [
    "print(\"First data-set: \", '\\n',model_1.single_counts_df.sort_values(by='state').head(),\n",
    "      '\\n', \"Second data-set: \", '\\n', model_2.single_counts_df.sort_values(by='state').head())"
   ]
  },
  {
   "cell_type": "markdown",
   "metadata": {},
   "source": [
    "Let us have a look on which are the most frequent sequences: "
   ]
  },
  {
   "cell_type": "code",
   "execution_count": 16,
   "metadata": {},
   "outputs": [
    {
     "data": {
      "image/png": "[encoded data removed]",
      "text/plain": [
       "<Figure size 432x288 with 1 Axes>"
      ]
     },
     "metadata": {
      "needs_background": "light"
     },
     "output_type": "display_data"
    },
    {
     "data": {
      "image/png": "[encoded data removed]",
      "text/plain": [
       "<Figure size 432x288 with 1 Axes>"
      ]
     },
     "metadata": {
      "needs_background": "light"
     },
     "output_type": "display_data"
    }
   ],
   "source": [
    "model_1.plot_frequency(n_most_frequent=12)\n",
    "model_1.plot_frequency(n_most_frequent=12)"
   ]
  },
  {
   "cell_type": "code",
   "execution_count": 17,
   "metadata": {},
   "outputs": [
    {
     "data": {
      "text/plain": [
       "<pandas.core.groupby.generic.SeriesGroupBy object at 0x11027f278>"
      ]
     },
     "execution_count": 17,
     "metadata": {},
     "output_type": "execute_result"
    }
   ],
   "source": [
    "model_2.predict_grouped_probas(df2[\"state\"].values, df2[\"sequence\"])"
   ]
  },
  {
   "cell_type": "markdown",
   "metadata": {},
   "source": [
    "### Probability Matrix\n",
    "Are you curious about the probability matrix? \n",
    "Let's have a look."
   ]
  },
  {
   "cell_type": "code",
   "execution_count": 18,
   "metadata": {},
   "outputs": [
    {
     "data": {
      "image/png": "[encoded data removed]",
      "text/plain": [
       "<Figure size 432x288 with 2 Axes>"
      ]
     },
     "metadata": {
      "needs_background": "light"
     },
     "output_type": "display_data"
    }
   ],
   "source": [
    "model_2.plot_proba_matrix(log=True)"
   ]
  },
  {
   "cell_type": "code",
   "execution_count": 19,
   "metadata": {},
   "outputs": [
    {
     "data": {
      "image/png": "[encoded data removed]",
      "text/plain": [
       "<Figure size 432x288 with 2 Axes>"
      ]
     },
     "metadata": {
      "needs_background": "light"
     },
     "output_type": "display_data"
    }
   ],
   "source": [
    "model_1.plot_proba_matrix(log=False)"
   ]
  },
  {
   "cell_type": "markdown",
   "metadata": {},
   "source": [
    "We are ready to create Markov features."
   ]
  },
  {
   "cell_type": "code",
   "execution_count": 20,
   "metadata": {},
   "outputs": [
    {
     "data": {
      "text/html": [
       "<div>\n",
       "<style scoped>\n",
       "    .dataframe tbody tr th:only-of-type {\n",
       "        vertical-align: middle;\n",
       "    }\n",
       "\n",
       "    .dataframe tbody tr th {\n",
       "        vertical-align: top;\n",
       "    }\n",
       "\n",
       "    .dataframe thead th {\n",
       "        text-align: right;\n",
       "    }\n",
       "</style>\n",
       "<table border=\"1\" class=\"dataframe\">\n",
       "  <thead>\n",
       "    <tr style=\"text-align: right;\">\n",
       "      <th></th>\n",
       "      <th>person_id</th>\n",
       "      <th>V_Markov_seq_prob_log_mean</th>\n",
       "      <th>V_Markov_seq_prob_log_median</th>\n",
       "      <th>V_Markov_seq_prob_log_tot</th>\n",
       "      <th>V_Markov_seq_prob_max</th>\n",
       "      <th>V_Markov_seq_prob_mean</th>\n",
       "      <th>V_Markov_seq_prob_median</th>\n",
       "      <th>V_Markov_seq_prob_min</th>\n",
       "    </tr>\n",
       "  </thead>\n",
       "  <tbody>\n",
       "    <tr>\n",
       "      <th>0</th>\n",
       "      <td>0</td>\n",
       "      <td>-1.078504</td>\n",
       "      <td>-1.397940</td>\n",
       "      <td>-39.365208</td>\n",
       "      <td>0.231064</td>\n",
       "      <td>0.083463</td>\n",
       "      <td>0.040000</td>\n",
       "      <td>0.000101</td>\n",
       "    </tr>\n",
       "    <tr>\n",
       "      <th>1</th>\n",
       "      <td>1</td>\n",
       "      <td>-1.202606</td>\n",
       "      <td>-1.397940</td>\n",
       "      <td>-13.707578</td>\n",
       "      <td>0.231064</td>\n",
       "      <td>0.062718</td>\n",
       "      <td>0.040000</td>\n",
       "      <td>0.000026</td>\n",
       "    </tr>\n",
       "    <tr>\n",
       "      <th>2</th>\n",
       "      <td>2</td>\n",
       "      <td>-1.088941</td>\n",
       "      <td>-1.088941</td>\n",
       "      <td>-2.308166</td>\n",
       "      <td>0.122963</td>\n",
       "      <td>0.081481</td>\n",
       "      <td>0.081481</td>\n",
       "      <td>0.040000</td>\n",
       "    </tr>\n",
       "    <tr>\n",
       "      <th>3</th>\n",
       "      <td>4</td>\n",
       "      <td>-1.546433</td>\n",
       "      <td>-1.397940</td>\n",
       "      <td>-7.843544</td>\n",
       "      <td>0.040000</td>\n",
       "      <td>0.028416</td>\n",
       "      <td>0.040000</td>\n",
       "      <td>0.005952</td>\n",
       "    </tr>\n",
       "    <tr>\n",
       "      <th>4</th>\n",
       "      <td>5</td>\n",
       "      <td>-1.744492</td>\n",
       "      <td>-1.591065</td>\n",
       "      <td>-5.743231</td>\n",
       "      <td>0.025641</td>\n",
       "      <td>0.018010</td>\n",
       "      <td>0.025641</td>\n",
       "      <td>0.002747</td>\n",
       "    </tr>\n",
       "  </tbody>\n",
       "</table>\n",
       "</div>"
      ],
      "text/plain": [
       "   person_id  V_Markov_seq_prob_log_mean  V_Markov_seq_prob_log_median  \\\n",
       "0          0                   -1.078504                     -1.397940   \n",
       "1          1                   -1.202606                     -1.397940   \n",
       "2          2                   -1.088941                     -1.088941   \n",
       "3          4                   -1.546433                     -1.397940   \n",
       "4          5                   -1.744492                     -1.591065   \n",
       "\n",
       "   V_Markov_seq_prob_log_tot  V_Markov_seq_prob_max  V_Markov_seq_prob_mean  \\\n",
       "0                 -39.365208               0.231064                0.083463   \n",
       "1                 -13.707578               0.231064                0.062718   \n",
       "2                  -2.308166               0.122963                0.081481   \n",
       "3                  -7.843544               0.040000                0.028416   \n",
       "4                  -5.743231               0.025641                0.018010   \n",
       "\n",
       "   V_Markov_seq_prob_median  V_Markov_seq_prob_min  \n",
       "0                  0.040000               0.000101  \n",
       "1                  0.040000               0.000026  \n",
       "2                  0.081481               0.040000  \n",
       "3                  0.040000               0.005952  \n",
       "4                  0.025641               0.002747  "
      ]
     },
     "execution_count": 20,
     "metadata": {},
     "output_type": "execute_result"
    }
   ],
   "source": [
    "model_1.predict_proba_stats(df2[\"state\"], df2[\"sequence\"]).head()"
   ]
  },
  {
   "cell_type": "markdown",
   "metadata": {},
   "source": [
    "If you would like to create more features, add them in the class and it will return them."
   ]
  },
  {
   "cell_type": "markdown",
   "metadata": {},
   "source": [
    "#### Are these features predective? "
   ]
  },
  {
   "cell_type": "code",
   "execution_count": 21,
   "metadata": {},
   "outputs": [],
   "source": [
    "probs2 = model_1.predict_proba_stats(df2[\"state\"], df2[\"sequence\"])[\"V_Markov_seq_prob_median\"].values\n",
    "probs1 = model_1.predict_proba_stats(df1[\"state\"], df1[\"sequence\"])[\"V_Markov_seq_prob_median\"].values"
   ]
  },
  {
   "cell_type": "code",
   "execution_count": 22,
   "metadata": {},
   "outputs": [
    {
     "data": {
      "image/png": "[encoded data removed]",
      "text/plain": [
       "<Figure size 432x288 with 1 Axes>"
      ]
     },
     "metadata": {
      "needs_background": "light"
     },
     "output_type": "display_data"
    }
   ],
   "source": [
    "bins = np.linspace(0,1,100)\n",
    "plt.hist(probs1, bins=bins, histtype=\"step\")\n",
    "plt.hist(probs2, bins=bins, histtype=\"step\")\n",
    "plt.show()"
   ]
  },
  {
   "cell_type": "markdown",
   "metadata": {},
   "source": [
    "## Imputing missing values\n",
    "Few words about missing values: \n",
    "\n",
    "- missing values are present when in the data set are sequences with one state only\n",
    "- imputing missing values is preferred be done outside the class\n",
    "- example function below"
   ]
  },
  {
   "cell_type": "code",
   "execution_count": 23,
   "metadata": {},
   "outputs": [],
   "source": [
    "def replace_Markov_missing_values(df, log_values = 0, nolog_values = 1):\n",
    "    '''\n",
    "    Retrieves all the Markov features, and replaces them by 1 or 0 if we have log or not\n",
    "    Args:\n",
    "        df (dataframe) : pandas dataframe with Markov features\n",
    "        log_values (int): value to fill the missing values\n",
    "        nolog_values (int): value to fill the missing values\n",
    "    Returns:\n",
    "        df (pandas dataframe): in this dataframe the missing values of the column col have been replaced\n",
    "    '''\n",
    "    for col in df.columns:\n",
    "        if col.startswith('V_Markov_log'):\n",
    "            df[col] = df[col].fillna(value = log_values)\n",
    "        if col.startswith('V_Markov_seq'):\n",
    "            df[col] = df[col].fillna(value = nolog_values)\n",
    "\n",
    "    return df"
   ]
  },
  {
   "cell_type": "markdown",
   "metadata": {},
   "source": [
    "#### Some notes in the ```class BigramModel``"
   ]
  },
  {
   "cell_type": "code",
   "execution_count": null,
   "metadata": {},
   "outputs": [],
   "source": [
    "predict_mean_proba"
   ]
  }
 ],
 "metadata": {
  "kernelspec": {
   "display_name": "Python 3",
   "language": "python",
   "name": "python3"
  },
  "language_info": {
   "codemirror_mode": {
    "name": "ipython",
    "version": 3
   },
   "file_extension": ".py",
   "mimetype": "text/x-python",
   "name": "python",
   "nbconvert_exporter": "python",
   "pygments_lexer": "ipython3",
   "version": "3.5.6"
  }
 },
 "nbformat": 4,
 "nbformat_minor": 2
}
